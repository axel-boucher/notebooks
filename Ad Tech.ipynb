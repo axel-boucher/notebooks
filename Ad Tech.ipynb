{
 "cells": [
  {
   "cell_type": "markdown",
   "metadata": {},
   "source": [
    "# Datascience for Ad Tech 2018\n",
    "### Predicting view time of video ads\n",
    "*Team JDA : BOIVIN Jolyanne, BOUCHER Axel, GRIGNARD Jeremy, KARTHIGESU Dinojan*"
   ]
  },
  {
   "cell_type": "markdown",
   "metadata": {},
   "source": [
    "# Introduction\n",
    "\n",
    "The goal of this competition is to predict the time a user will watch a video ad.\n",
    "\n",
    "Each line of the dataset is identified by its auction_id and depicts one impression for a given context: user, publisher, advertiser.\n",
    "\n",
    "The evaluation metric is the RMSE (see section Evaluation) but this metric is not necessarily the best proxy for the performance of the model in a production context"
   ]
  },
  {
   "cell_type": "markdown",
   "metadata": {},
   "source": [
    "## Columns description\n",
    "\n",
    "- auction_id - a unique id for identifying each line\n",
    "- timestamp - the timestamp (in seconds) of the ad impression\n",
    "- creative_duration - the total duration of the video that has been played\n",
    "- campaign_id - the advertising campaign id\n",
    "- advertiser_id - the advertiser id\n",
    "- placement_id - the id of zone in the web page where the video was played-\n",
    "- placement_language - the language of this zone\n",
    "- website_id - the corresponding website id\n",
    "- referer_deep_three - the url of the page where the video was played, truncated at its 3rd level\n",
    "- ua_country - the country of the user who saw the video\n",
    "- ua_os - the user Operating System\n",
    "- ua_browser - the user internet browser\n",
    "- ua_browser_version - the user browser version\n",
    "- ua_device - the user device\n",
    "- user_average_seconds_played - the average duration the user watched video ads in the past. Can be null if the user never watched any ad.\n",
    "- seconds_played - the observed time the video has been watched. This is the quantity you want to predict, consequently you will only find it in the training set."
   ]
  },
  {
   "cell_type": "code",
   "execution_count": 1,
   "metadata": {
    "collapsed": true
   },
   "outputs": [],
   "source": [
    "import numpy as np\n",
    "import pandas as pd\n",
    "from collections import Counter\n",
    "\n",
    "# Data visualization\n",
    "import matplotlib.pyplot as plt\n",
    "import seaborn as sns\n",
    "%matplotlib inline"
   ]
  },
  {
   "cell_type": "code",
   "execution_count": 2,
   "metadata": {
    "collapsed": true
   },
   "outputs": [],
   "source": [
    "train = pd.read_csv('data/training.csv')\n",
    "test = pd.read_csv('data/test.csv')"
   ]
  },
  {
   "cell_type": "code",
   "execution_count": 3,
   "metadata": {},
   "outputs": [
    {
     "name": "stdout",
     "output_type": "stream",
     "text": [
      "Train Set shape : (3000000, 17)\n"
     ]
    },
    {
     "data": {
      "text/html": [
       "<div>\n",
       "<style scoped>\n",
       "    .dataframe tbody tr th:only-of-type {\n",
       "        vertical-align: middle;\n",
       "    }\n",
       "\n",
       "    .dataframe tbody tr th {\n",
       "        vertical-align: top;\n",
       "    }\n",
       "\n",
       "    .dataframe thead th {\n",
       "        text-align: right;\n",
       "    }\n",
       "</style>\n",
       "<table border=\"1\" class=\"dataframe\">\n",
       "  <thead>\n",
       "    <tr style=\"text-align: right;\">\n",
       "      <th></th>\n",
       "      <th>auction_id</th>\n",
       "      <th>timestamp</th>\n",
       "      <th>creative_duration</th>\n",
       "      <th>creative_id</th>\n",
       "      <th>campaign_id</th>\n",
       "      <th>advertiser_id</th>\n",
       "      <th>placement_id</th>\n",
       "      <th>placement_language</th>\n",
       "      <th>website_id</th>\n",
       "      <th>referer_deep_three</th>\n",
       "      <th>ua_country</th>\n",
       "      <th>ua_os</th>\n",
       "      <th>ua_browser</th>\n",
       "      <th>ua_browser_version</th>\n",
       "      <th>ua_device</th>\n",
       "      <th>user_average_seconds_played</th>\n",
       "      <th>seconds_played</th>\n",
       "    </tr>\n",
       "  </thead>\n",
       "  <tbody>\n",
       "    <tr>\n",
       "      <th>0</th>\n",
       "      <td>0008b046-b675-4f51-8ad6-fe06e5d81f8e</td>\n",
       "      <td>1517334694</td>\n",
       "      <td>25</td>\n",
       "      <td>198280</td>\n",
       "      <td>210671</td>\n",
       "      <td>7109.0</td>\n",
       "      <td>47216</td>\n",
       "      <td>fr</td>\n",
       "      <td>31838</td>\n",
       "      <td>de/golf/publish</td>\n",
       "      <td>ch</td>\n",
       "      <td>Windows</td>\n",
       "      <td>Microsoft Edge</td>\n",
       "      <td>16.0</td>\n",
       "      <td>PersonalComputer</td>\n",
       "      <td>NaN</td>\n",
       "      <td>9</td>\n",
       "    </tr>\n",
       "    <tr>\n",
       "      <th>1</th>\n",
       "      <td>00095bac-8fec-48c8-a17b-8f3878359e1d</td>\n",
       "      <td>1517270483</td>\n",
       "      <td>29</td>\n",
       "      <td>195285</td>\n",
       "      <td>210074</td>\n",
       "      <td>2270.0</td>\n",
       "      <td>77249</td>\n",
       "      <td>fr</td>\n",
       "      <td>46416</td>\n",
       "      <td>com/vinepair/articles</td>\n",
       "      <td>uk</td>\n",
       "      <td>Windows</td>\n",
       "      <td>Chrome</td>\n",
       "      <td>64.0</td>\n",
       "      <td>PersonalComputer</td>\n",
       "      <td>NaN</td>\n",
       "      <td>8</td>\n",
       "    </tr>\n",
       "    <tr>\n",
       "      <th>2</th>\n",
       "      <td>000c4c0c-0789-4e50-8ba6-a4be920ab482</td>\n",
       "      <td>1517339899</td>\n",
       "      <td>60</td>\n",
       "      <td>201430</td>\n",
       "      <td>214063</td>\n",
       "      <td>2643.0</td>\n",
       "      <td>25817</td>\n",
       "      <td>fr</td>\n",
       "      <td>20824</td>\n",
       "      <td>co.uk/hastingsobserver/news</td>\n",
       "      <td>uk</td>\n",
       "      <td>iOS</td>\n",
       "      <td>Facebook App</td>\n",
       "      <td>NaN</td>\n",
       "      <td>Tablet</td>\n",
       "      <td>NaN</td>\n",
       "      <td>1</td>\n",
       "    </tr>\n",
       "    <tr>\n",
       "      <th>3</th>\n",
       "      <td>000db509-3350-4cd9-b60a-d506fbd31f29</td>\n",
       "      <td>1517346542</td>\n",
       "      <td>29</td>\n",
       "      <td>198262</td>\n",
       "      <td>215400</td>\n",
       "      <td>2244.0</td>\n",
       "      <td>86526</td>\n",
       "      <td>fr</td>\n",
       "      <td>39091</td>\n",
       "      <td>com/slate/news-and-politics</td>\n",
       "      <td>us</td>\n",
       "      <td>Windows</td>\n",
       "      <td>Chrome</td>\n",
       "      <td>63.0</td>\n",
       "      <td>PersonalComputer</td>\n",
       "      <td>18.166666</td>\n",
       "      <td>1</td>\n",
       "    </tr>\n",
       "    <tr>\n",
       "      <th>4</th>\n",
       "      <td>001300de-8eda-480f-bec8-4b46ef6117f2</td>\n",
       "      <td>1517310926</td>\n",
       "      <td>29</td>\n",
       "      <td>174590</td>\n",
       "      <td>184750</td>\n",
       "      <td>3617.0</td>\n",
       "      <td>85350</td>\n",
       "      <td>fr</td>\n",
       "      <td>14796</td>\n",
       "      <td>co.uk/independent/arts-entertainment</td>\n",
       "      <td>uk</td>\n",
       "      <td>Windows</td>\n",
       "      <td>Firefox</td>\n",
       "      <td>58.0</td>\n",
       "      <td>PersonalComputer</td>\n",
       "      <td>NaN</td>\n",
       "      <td>0</td>\n",
       "    </tr>\n",
       "  </tbody>\n",
       "</table>\n",
       "</div>"
      ],
      "text/plain": [
       "                             auction_id   timestamp  creative_duration  \\\n",
       "0  0008b046-b675-4f51-8ad6-fe06e5d81f8e  1517334694                 25   \n",
       "1  00095bac-8fec-48c8-a17b-8f3878359e1d  1517270483                 29   \n",
       "2  000c4c0c-0789-4e50-8ba6-a4be920ab482  1517339899                 60   \n",
       "3  000db509-3350-4cd9-b60a-d506fbd31f29  1517346542                 29   \n",
       "4  001300de-8eda-480f-bec8-4b46ef6117f2  1517310926                 29   \n",
       "\n",
       "   creative_id  campaign_id  advertiser_id  placement_id placement_language  \\\n",
       "0       198280       210671         7109.0         47216                 fr   \n",
       "1       195285       210074         2270.0         77249                 fr   \n",
       "2       201430       214063         2643.0         25817                 fr   \n",
       "3       198262       215400         2244.0         86526                 fr   \n",
       "4       174590       184750         3617.0         85350                 fr   \n",
       "\n",
       "   website_id                    referer_deep_three ua_country    ua_os  \\\n",
       "0       31838                       de/golf/publish         ch  Windows   \n",
       "1       46416                 com/vinepair/articles         uk  Windows   \n",
       "2       20824           co.uk/hastingsobserver/news         uk      iOS   \n",
       "3       39091           com/slate/news-and-politics         us  Windows   \n",
       "4       14796  co.uk/independent/arts-entertainment         uk  Windows   \n",
       "\n",
       "       ua_browser  ua_browser_version         ua_device  \\\n",
       "0  Microsoft Edge                16.0  PersonalComputer   \n",
       "1          Chrome                64.0  PersonalComputer   \n",
       "2    Facebook App                 NaN            Tablet   \n",
       "3          Chrome                63.0  PersonalComputer   \n",
       "4         Firefox                58.0  PersonalComputer   \n",
       "\n",
       "   user_average_seconds_played  seconds_played  \n",
       "0                          NaN               9  \n",
       "1                          NaN               8  \n",
       "2                          NaN               1  \n",
       "3                    18.166666               1  \n",
       "4                          NaN               0  "
      ]
     },
     "execution_count": 3,
     "metadata": {},
     "output_type": "execute_result"
    }
   ],
   "source": [
    "print(\"Train Set shape : \" + str(train.shape))\n",
    "train.head()"
   ]
  },
  {
   "cell_type": "code",
   "execution_count": 4,
   "metadata": {},
   "outputs": [
    {
     "name": "stdout",
     "output_type": "stream",
     "text": [
      "Test Set shape : (1000000, 16)\n"
     ]
    },
    {
     "data": {
      "text/html": [
       "<div>\n",
       "<style scoped>\n",
       "    .dataframe tbody tr th:only-of-type {\n",
       "        vertical-align: middle;\n",
       "    }\n",
       "\n",
       "    .dataframe tbody tr th {\n",
       "        vertical-align: top;\n",
       "    }\n",
       "\n",
       "    .dataframe thead th {\n",
       "        text-align: right;\n",
       "    }\n",
       "</style>\n",
       "<table border=\"1\" class=\"dataframe\">\n",
       "  <thead>\n",
       "    <tr style=\"text-align: right;\">\n",
       "      <th></th>\n",
       "      <th>auction_id</th>\n",
       "      <th>timestamp</th>\n",
       "      <th>creative_duration</th>\n",
       "      <th>creative_id</th>\n",
       "      <th>campaign_id</th>\n",
       "      <th>advertiser_id</th>\n",
       "      <th>placement_id</th>\n",
       "      <th>placement_language</th>\n",
       "      <th>website_id</th>\n",
       "      <th>referer_deep_three</th>\n",
       "      <th>ua_country</th>\n",
       "      <th>ua_os</th>\n",
       "      <th>ua_browser</th>\n",
       "      <th>ua_browser_version</th>\n",
       "      <th>ua_device</th>\n",
       "      <th>user_average_seconds_played</th>\n",
       "    </tr>\n",
       "  </thead>\n",
       "  <tbody>\n",
       "    <tr>\n",
       "      <th>0</th>\n",
       "      <td>0001a52c-77b7-49e5-9e6f-0f13d0c4c065</td>\n",
       "      <td>1517403290</td>\n",
       "      <td>29</td>\n",
       "      <td>201701</td>\n",
       "      <td>214397</td>\n",
       "      <td>5500.0</td>\n",
       "      <td>66536</td>\n",
       "      <td>fr</td>\n",
       "      <td>39541</td>\n",
       "      <td>fr/leparisien/societe</td>\n",
       "      <td>fr</td>\n",
       "      <td>Android</td>\n",
       "      <td>Chrome Mobile</td>\n",
       "      <td>64.0</td>\n",
       "      <td>Tablet</td>\n",
       "      <td>22.0</td>\n",
       "    </tr>\n",
       "    <tr>\n",
       "      <th>1</th>\n",
       "      <td>000273fa-3ca0-4292-a57e-84edec163147</td>\n",
       "      <td>1517417795</td>\n",
       "      <td>21</td>\n",
       "      <td>199890</td>\n",
       "      <td>212176</td>\n",
       "      <td>1413.0</td>\n",
       "      <td>30466</td>\n",
       "      <td>fr</td>\n",
       "      <td>23288</td>\n",
       "      <td>com/elpais/internacional</td>\n",
       "      <td>us</td>\n",
       "      <td>iOS</td>\n",
       "      <td>Safari mobile</td>\n",
       "      <td>10.0</td>\n",
       "      <td>Phone</td>\n",
       "      <td>NaN</td>\n",
       "    </tr>\n",
       "    <tr>\n",
       "      <th>2</th>\n",
       "      <td>000307cf-c967-451c-a698-3a9f9f7afe4e</td>\n",
       "      <td>1517426142</td>\n",
       "      <td>29</td>\n",
       "      <td>202354</td>\n",
       "      <td>215274</td>\n",
       "      <td>9307.0</td>\n",
       "      <td>59626</td>\n",
       "      <td>fr</td>\n",
       "      <td>37824</td>\n",
       "      <td>com/indystar/story</td>\n",
       "      <td>us</td>\n",
       "      <td>Windows</td>\n",
       "      <td>Chrome</td>\n",
       "      <td>63.0</td>\n",
       "      <td>PersonalComputer</td>\n",
       "      <td>15.0</td>\n",
       "    </tr>\n",
       "    <tr>\n",
       "      <th>3</th>\n",
       "      <td>00034736-1879-427f-9d62-07142dac540f</td>\n",
       "      <td>1517409216</td>\n",
       "      <td>69</td>\n",
       "      <td>201862</td>\n",
       "      <td>214627</td>\n",
       "      <td>1328.0</td>\n",
       "      <td>67283</td>\n",
       "      <td>fr</td>\n",
       "      <td>41761</td>\n",
       "      <td>com/hkej/www2</td>\n",
       "      <td>hk</td>\n",
       "      <td>iOS</td>\n",
       "      <td>Facebook App</td>\n",
       "      <td>NaN</td>\n",
       "      <td>Phone</td>\n",
       "      <td>NaN</td>\n",
       "    </tr>\n",
       "    <tr>\n",
       "      <th>4</th>\n",
       "      <td>000560aa-3a06-46a0-9502-0c093b3bb327</td>\n",
       "      <td>1517435607</td>\n",
       "      <td>14</td>\n",
       "      <td>198848</td>\n",
       "      <td>211331</td>\n",
       "      <td>2168.0</td>\n",
       "      <td>46479</td>\n",
       "      <td>fr</td>\n",
       "      <td>31511</td>\n",
       "      <td>it/oggi/people</td>\n",
       "      <td>it</td>\n",
       "      <td>Android</td>\n",
       "      <td>Chrome Mobile</td>\n",
       "      <td>64.0</td>\n",
       "      <td>Phone</td>\n",
       "      <td>5.0</td>\n",
       "    </tr>\n",
       "  </tbody>\n",
       "</table>\n",
       "</div>"
      ],
      "text/plain": [
       "                             auction_id   timestamp  creative_duration  \\\n",
       "0  0001a52c-77b7-49e5-9e6f-0f13d0c4c065  1517403290                 29   \n",
       "1  000273fa-3ca0-4292-a57e-84edec163147  1517417795                 21   \n",
       "2  000307cf-c967-451c-a698-3a9f9f7afe4e  1517426142                 29   \n",
       "3  00034736-1879-427f-9d62-07142dac540f  1517409216                 69   \n",
       "4  000560aa-3a06-46a0-9502-0c093b3bb327  1517435607                 14   \n",
       "\n",
       "   creative_id  campaign_id  advertiser_id  placement_id placement_language  \\\n",
       "0       201701       214397         5500.0         66536                 fr   \n",
       "1       199890       212176         1413.0         30466                 fr   \n",
       "2       202354       215274         9307.0         59626                 fr   \n",
       "3       201862       214627         1328.0         67283                 fr   \n",
       "4       198848       211331         2168.0         46479                 fr   \n",
       "\n",
       "   website_id        referer_deep_three ua_country    ua_os     ua_browser  \\\n",
       "0       39541     fr/leparisien/societe         fr  Android  Chrome Mobile   \n",
       "1       23288  com/elpais/internacional         us      iOS  Safari mobile   \n",
       "2       37824        com/indystar/story         us  Windows         Chrome   \n",
       "3       41761             com/hkej/www2         hk      iOS   Facebook App   \n",
       "4       31511            it/oggi/people         it  Android  Chrome Mobile   \n",
       "\n",
       "   ua_browser_version         ua_device  user_average_seconds_played  \n",
       "0                64.0            Tablet                         22.0  \n",
       "1                10.0             Phone                          NaN  \n",
       "2                63.0  PersonalComputer                         15.0  \n",
       "3                 NaN             Phone                          NaN  \n",
       "4                64.0             Phone                          5.0  "
      ]
     },
     "execution_count": 4,
     "metadata": {},
     "output_type": "execute_result"
    }
   ],
   "source": [
    "print(\"Test Set shape : \" + str(test.shape))\n",
    "test.head()"
   ]
  },
  {
   "cell_type": "markdown",
   "metadata": {},
   "source": [
    "### Sets Infos"
   ]
  },
  {
   "cell_type": "code",
   "execution_count": 5,
   "metadata": {},
   "outputs": [
    {
     "name": "stdout",
     "output_type": "stream",
     "text": [
      "<class 'pandas.core.frame.DataFrame'>\n",
      "RangeIndex: 3000000 entries, 0 to 2999999\n",
      "Data columns (total 17 columns):\n",
      "auction_id                     object\n",
      "timestamp                      int64\n",
      "creative_duration              int64\n",
      "creative_id                    int64\n",
      "campaign_id                    int64\n",
      "advertiser_id                  float64\n",
      "placement_id                   int64\n",
      "placement_language             object\n",
      "website_id                     int64\n",
      "referer_deep_three             object\n",
      "ua_country                     object\n",
      "ua_os                          object\n",
      "ua_browser                     object\n",
      "ua_browser_version             float64\n",
      "ua_device                      object\n",
      "user_average_seconds_played    float64\n",
      "seconds_played                 int64\n",
      "dtypes: float64(3), int64(7), object(7)\n",
      "memory usage: 389.1+ MB\n"
     ]
    }
   ],
   "source": [
    "train.info()"
   ]
  },
  {
   "cell_type": "code",
   "execution_count": 6,
   "metadata": {},
   "outputs": [
    {
     "name": "stdout",
     "output_type": "stream",
     "text": [
      "<class 'pandas.core.frame.DataFrame'>\n",
      "RangeIndex: 1000000 entries, 0 to 999999\n",
      "Data columns (total 16 columns):\n",
      "auction_id                     1000000 non-null object\n",
      "timestamp                      1000000 non-null int64\n",
      "creative_duration              1000000 non-null int64\n",
      "creative_id                    1000000 non-null int64\n",
      "campaign_id                    1000000 non-null int64\n",
      "advertiser_id                  988902 non-null float64\n",
      "placement_id                   1000000 non-null int64\n",
      "placement_language             999814 non-null object\n",
      "website_id                     1000000 non-null int64\n",
      "referer_deep_three             980011 non-null object\n",
      "ua_country                     999993 non-null object\n",
      "ua_os                          1000000 non-null object\n",
      "ua_browser                     1000000 non-null object\n",
      "ua_browser_version             800478 non-null float64\n",
      "ua_device                      999961 non-null object\n",
      "user_average_seconds_played    361575 non-null float64\n",
      "dtypes: float64(3), int64(6), object(7)\n",
      "memory usage: 122.1+ MB\n"
     ]
    }
   ],
   "source": [
    "test.info()"
   ]
  },
  {
   "cell_type": "markdown",
   "metadata": {},
   "source": [
    "### Visualization"
   ]
  },
  {
   "cell_type": "code",
   "execution_count": 103,
   "metadata": {},
   "outputs": [
    {
     "name": "stderr",
     "output_type": "stream",
     "text": [
      "C:\\ProgramData\\Anaconda3\\lib\\site-packages\\seaborn\\categorical.py:490: FutureWarning: remove_na is deprecated and is a private function. Do not use.\n",
      "  box_data = remove_na(group_data[hue_mask])\n"
     ]
    },
    {
     "data": {
      "image/png": "[encoded data removed]",
      "text/plain": [
       "<matplotlib.figure.Figure at 0x83e25a97b8>"
      ]
     },
     "metadata": {},
     "output_type": "display_data"
    }
   ],
   "source": [
    "plt.figure(figsize=(15,10))\n",
    "sns.boxplot(x=train.seconds_played, y=[\"\"]*len(train), hue=train.placement_language);"
   ]
  },
  {
   "cell_type": "code",
   "execution_count": 97,
   "metadata": {},
   "outputs": [
    {
     "name": "stderr",
     "output_type": "stream",
     "text": [
      "C:\\ProgramData\\Anaconda3\\lib\\site-packages\\seaborn\\categorical.py:490: FutureWarning: remove_na is deprecated and is a private function. Do not use.\n",
      "  box_data = remove_na(group_data[hue_mask])\n"
     ]
    },
    {
     "data": {
      "image/png": "[encoded data removed]",
      "text/plain": [
       "<matplotlib.figure.Figure at 0x83e0c80630>"
      ]
     },
     "metadata": {},
     "output_type": "display_data"
    }
   ],
   "source": [
    "plt.figure(figsize=(15,10))\n",
    "sns.boxplot(x=train.seconds_played, y=[\"\"]*len(train), hue=train.ua_os);"
   ]
  },
  {
   "cell_type": "code",
   "execution_count": 114,
   "metadata": {},
   "outputs": [
    {
     "name": "stderr",
     "output_type": "stream",
     "text": [
      "C:\\ProgramData\\Anaconda3\\lib\\site-packages\\seaborn\\categorical.py:490: FutureWarning: remove_na is deprecated and is a private function. Do not use.\n",
      "  box_data = remove_na(group_data[hue_mask])\n"
     ]
    },
    {
     "data": {
      "image/png": "[encoded data removed]",
      "text/plain": [
       "<matplotlib.figure.Figure at 0x83eb794e48>"
      ]
     },
     "metadata": {},
     "output_type": "display_data"
    }
   ],
   "source": [
    "plt.figure(figsize=(15,10))\n",
    "sns.boxplot(x=train.seconds_played, y=[\"\"]*len(train), hue=train.ua_device);"
   ]
  },
  {
   "cell_type": "markdown",
   "metadata": {},
   "source": [
    "### Target Distribution"
   ]
  },
  {
   "cell_type": "code",
   "execution_count": 111,
   "metadata": {},
   "outputs": [
    {
     "data": {
      "image/png": "[encoded data removed]",
      "text/plain": [
       "<matplotlib.figure.Figure at 0x83e1f3f320>"
      ]
     },
     "metadata": {},
     "output_type": "display_data"
    }
   ],
   "source": [
    "#Organize Data\n",
    "SR_y = pd.Series(y_, name=\"y_ (Target Vector Distribution)\")\n",
    "\n",
    "#Plot Data\n",
    "fig, ax = plt.subplots(figsize=(10, 4))\n",
    "sns.distplot(SR_y, bins=25, color=\"g\", ax=ax)\n",
    "plt.show()"
   ]
  },
  {
   "cell_type": "markdown",
   "metadata": {},
   "source": [
    "### Log Trick useful ?"
   ]
  },
  {
   "cell_type": "code",
   "execution_count": 112,
   "metadata": {},
   "outputs": [
    {
     "data": {
      "image/png": "[encoded data removed]",
      "text/plain": [
       "<matplotlib.figure.Figure at 0x83e25a9208>"
      ]
     },
     "metadata": {},
     "output_type": "display_data"
    }
   ],
   "source": [
    "#Organize Data\n",
    "SR_y = pd.Series(np.log(y_ + 1), name=\"log(y_) (Target Log Vector Distribution)\")\n",
    "\n",
    "#Plot Data\n",
    "fig, ax = plt.subplots(figsize=(10, 4))\n",
    "sns.distplot(SR_y, bins=25, color=\"g\", ax=ax)\n",
    "plt.show()"
   ]
  },
  {
   "cell_type": "markdown",
   "metadata": {},
   "source": [
    "### Correlation Heatmap"
   ]
  },
  {
   "cell_type": "code",
   "execution_count": 119,
   "metadata": {},
   "outputs": [
    {
     "data": {
      "image/png": "[encoded data removed]",
      "text/plain": [
       "<matplotlib.figure.Figure at 0x83c3314978>"
      ]
     },
     "metadata": {},
     "output_type": "display_data"
    }
   ],
   "source": [
    "corr = train.corr()\n",
    "\n",
    "# Generate a mask for the upper triangle\n",
    "mask = np.zeros_like(corr, dtype=np.bool)\n",
    "mask[np.triu_indices_from(mask)] = True\n",
    "\n",
    "# Set up the matplotlib figure\n",
    "f, ax = plt.subplots(figsize=(10, 10))\n",
    "\n",
    "# Draw the heatmap with the mask and correct aspect ratio\n",
    "sns.heatmap(corr, mask = mask, cmap=\"Reds\",\n",
    "            square=True, xticklabels=True, yticklabels=True,\n",
    "            linewidths=.5, cbar_kws={\"shrink\": 1}, ax=ax);"
   ]
  },
  {
   "cell_type": "markdown",
   "metadata": {},
   "source": [
    "###  Null Values in Sets"
   ]
  },
  {
   "cell_type": "code",
   "execution_count": 38,
   "metadata": {},
   "outputs": [
    {
     "name": "stdout",
     "output_type": "stream",
     "text": [
      "NaNs in advertiser_id float64\n",
      "Proportion of NaNs: 1.381467 %\n",
      "-----------------------------\n",
      "NaNs in placement_language object\n",
      "Proportion of NaNs: 0.006300 %\n",
      "-----------------------------\n",
      "NaNs in referer_deep_three object\n",
      "Proportion of NaNs: 1.223233 %\n",
      "-----------------------------\n",
      "NaNs in ua_country object\n",
      "Proportion of NaNs: 0.000467 %\n",
      "-----------------------------\n",
      "NaNs in ua_browser_version float64\n",
      "Proportion of NaNs: 20.001333 %\n",
      "-----------------------------\n",
      "NaNs in ua_device object\n",
      "Proportion of NaNs: 0.006600 %\n",
      "-----------------------------\n",
      "NaNs in user_average_seconds_played float64\n",
      "Proportion of NaNs: 63.343167 %\n",
      "-----------------------------\n"
     ]
    }
   ],
   "source": [
    "for col in train.columns:\n",
    "    if pd.isnull(train[col]).values.any():\n",
    "        print('NaNs in', col, train[col].dtypes)\n",
    "        d = dict(Counter(pd.isnull(train[col])))\n",
    "        nans = ( d[True] / (d[True] + d[False]) ) * 100\n",
    "        print('Proportion of NaNs: %f %%' % ( nans))\n",
    "        print('-----------------------------')"
   ]
  },
  {
   "cell_type": "code",
   "execution_count": 39,
   "metadata": {},
   "outputs": [
    {
     "name": "stdout",
     "output_type": "stream",
     "text": [
      "NaNs in advertiser_id float64\n",
      "Proportion of NaNs: 1.109800 %\n",
      "-----------------------------\n",
      "NaNs in placement_language object\n",
      "Proportion of NaNs: 0.018600 %\n",
      "-----------------------------\n",
      "NaNs in referer_deep_three object\n",
      "Proportion of NaNs: 1.998900 %\n",
      "-----------------------------\n",
      "NaNs in ua_country object\n",
      "Proportion of NaNs: 0.000700 %\n",
      "-----------------------------\n",
      "NaNs in ua_browser_version float64\n",
      "Proportion of NaNs: 19.952200 %\n",
      "-----------------------------\n",
      "NaNs in ua_device object\n",
      "Proportion of NaNs: 0.003900 %\n",
      "-----------------------------\n",
      "NaNs in user_average_seconds_played float64\n",
      "Proportion of NaNs: 63.842500 %\n",
      "-----------------------------\n"
     ]
    }
   ],
   "source": [
    "for col in test.columns:\n",
    "    if pd.isnull(test[col]).values.any():\n",
    "        print('NaNs in', col, test[col].dtypes)\n",
    "        d = dict(Counter(pd.isnull(test[col])))\n",
    "        nans = ( d[True] / (d[True] + d[False]) ) * 100\n",
    "        print('Proportion of NaNs: %f %%' % ( nans))\n",
    "        print('-----------------------------')"
   ]
  },
  {
   "cell_type": "code",
   "execution_count": 40,
   "metadata": {},
   "outputs": [
    {
     "name": "stdout",
     "output_type": "stream",
     "text": [
      "Number of entries:  3000000\n",
      "Number of entries when all NaNs are dropped:  926493\n"
     ]
    }
   ],
   "source": [
    "print('Number of entries: ',len(train))\n",
    "print('Number of entries when all NaNs are dropped: ' ,len(train.dropna()))"
   ]
  },
  {
   "cell_type": "markdown",
   "metadata": {},
   "source": [
    "#### Placement language"
   ]
  },
  {
   "cell_type": "code",
   "execution_count": 63,
   "metadata": {},
   "outputs": [
    {
     "data": {
      "text/plain": [
       "Counter({'fr': 2984649,\n",
       "         'de': 1363,\n",
       "         'en': 10623,\n",
       "         'es': 2677,\n",
       "         'pt': 466,\n",
       "         'it': 33,\n",
       "         nan: 189})"
      ]
     },
     "execution_count": 63,
     "metadata": {},
     "output_type": "execute_result"
    }
   ],
   "source": [
    "Counter(train.placement_language.values)"
   ]
  },
  {
   "cell_type": "code",
   "execution_count": 62,
   "metadata": {},
   "outputs": [
    {
     "name": "stdout",
     "output_type": "stream",
     "text": [
      "['fr']\n",
      "['fr']\n"
     ]
    }
   ],
   "source": [
    "print(train[train['placement_language'].isnull()]['ua_country'].unique())\n",
    "print(test[test['placement_language'].isnull()]['ua_country'].unique())"
   ]
  },
  {
   "cell_type": "markdown",
   "metadata": {},
   "source": [
    "Mode of placement_language is 'fr' and missing values correspond to a 'fr' in ua_country so : "
   ]
  },
  {
   "cell_type": "code",
   "execution_count": 66,
   "metadata": {
    "collapsed": true
   },
   "outputs": [],
   "source": [
    "train.replace({'placement_language': {np.nan : 'fr'}}, inplace = True)\n",
    "test.replace({'placement_language': {np.nan : 'fr'}}, inplace = True)"
   ]
  },
  {
   "cell_type": "markdown",
   "metadata": {},
   "source": [
    "#### Ua Country"
   ]
  },
  {
   "cell_type": "code",
   "execution_count": 79,
   "metadata": {},
   "outputs": [
    {
     "data": {
      "text/plain": [
       "True"
      ]
     },
     "execution_count": 79,
     "metadata": {},
     "output_type": "execute_result"
    }
   ],
   "source": [
    "'nl' in train.ua_country.unique()"
   ]
  },
  {
   "cell_type": "code",
   "execution_count": 81,
   "metadata": {},
   "outputs": [
    {
     "data": {
      "text/html": [
       "<div>\n",
       "<style scoped>\n",
       "    .dataframe tbody tr th:only-of-type {\n",
       "        vertical-align: middle;\n",
       "    }\n",
       "\n",
       "    .dataframe tbody tr th {\n",
       "        vertical-align: top;\n",
       "    }\n",
       "\n",
       "    .dataframe thead th {\n",
       "        text-align: right;\n",
       "    }\n",
       "</style>\n",
       "<table border=\"1\" class=\"dataframe\">\n",
       "  <thead>\n",
       "    <tr style=\"text-align: right;\">\n",
       "      <th></th>\n",
       "      <th>auction_id</th>\n",
       "      <th>timestamp</th>\n",
       "      <th>creative_duration</th>\n",
       "      <th>creative_id</th>\n",
       "      <th>campaign_id</th>\n",
       "      <th>advertiser_id</th>\n",
       "      <th>placement_id</th>\n",
       "      <th>placement_language</th>\n",
       "      <th>website_id</th>\n",
       "      <th>referer_deep_three</th>\n",
       "      <th>ua_country</th>\n",
       "      <th>ua_os</th>\n",
       "      <th>ua_browser</th>\n",
       "      <th>ua_browser_version</th>\n",
       "      <th>ua_device</th>\n",
       "      <th>user_average_seconds_played</th>\n",
       "      <th>seconds_played</th>\n",
       "    </tr>\n",
       "  </thead>\n",
       "  <tbody>\n",
       "    <tr>\n",
       "      <th>378173</th>\n",
       "      <td>8d9badeb-369b-4e66-acde-e12679283b01</td>\n",
       "      <td>1517328160</td>\n",
       "      <td>59</td>\n",
       "      <td>202571</td>\n",
       "      <td>215482</td>\n",
       "      <td>NaN</td>\n",
       "      <td>82443</td>\n",
       "      <td>fr</td>\n",
       "      <td>48756</td>\n",
       "      <td>nl/quotenet/Nieuws</td>\n",
       "      <td>NaN</td>\n",
       "      <td>Android</td>\n",
       "      <td>Chrome Mobile</td>\n",
       "      <td>63.0</td>\n",
       "      <td>Phone</td>\n",
       "      <td>NaN</td>\n",
       "      <td>4</td>\n",
       "    </tr>\n",
       "  </tbody>\n",
       "</table>\n",
       "</div>"
      ],
      "text/plain": [
       "                                  auction_id   timestamp  creative_duration  \\\n",
       "378173  8d9badeb-369b-4e66-acde-e12679283b01  1517328160                 59   \n",
       "\n",
       "        creative_id  campaign_id  advertiser_id  placement_id  \\\n",
       "378173       202571       215482            NaN         82443   \n",
       "\n",
       "       placement_language  website_id  referer_deep_three ua_country    ua_os  \\\n",
       "378173                 fr       48756  nl/quotenet/Nieuws        NaN  Android   \n",
       "\n",
       "           ua_browser  ua_browser_version ua_device  \\\n",
       "378173  Chrome Mobile                63.0     Phone   \n",
       "\n",
       "        user_average_seconds_played  seconds_played  \n",
       "378173                          NaN               4  "
      ]
     },
     "execution_count": 81,
     "metadata": {},
     "output_type": "execute_result"
    }
   ],
   "source": [
    "train[train['ua_country'].isnull()].head(1)"
   ]
  },
  {
   "cell_type": "markdown",
   "metadata": {},
   "source": [
    "Missing values in ua_country seems to correspond to a Netherlands Url when looking at referer_deep_three (in both train and test set) :"
   ]
  },
  {
   "cell_type": "code",
   "execution_count": 82,
   "metadata": {
    "collapsed": true
   },
   "outputs": [],
   "source": [
    "train.replace({'ua_country': {np.nan : 'nl'}}, inplace = True)\n",
    "test.replace({'ua_country': {np.nan : 'nl'}}, inplace = True)"
   ]
  },
  {
   "cell_type": "markdown",
   "metadata": {},
   "source": [
    "#### Ua Browser Version"
   ]
  },
  {
   "cell_type": "code",
   "execution_count": 107,
   "metadata": {},
   "outputs": [
    {
     "data": {
      "text/plain": [
       "array(['Facebook App', 'Safari mobile', 'Android webview',\n",
       "       'Android HttpURLConnection', 'Twitter App', 'BlackBerry Browser',\n",
       "       'PS4 Web browser', 'unknown', 'Android browser', 'CM Browser',\n",
       "       'Firefox', 'Mozilla', 'Apple Mail', 'Iron mobile', 'Avant Browser',\n",
       "       'Ubuntu web browser', 'Orange browser', 'Safari'], dtype=object)"
      ]
     },
     "execution_count": 107,
     "metadata": {},
     "output_type": "execute_result"
    }
   ],
   "source": [
    "train[train['ua_browser_version'].isnull()]['ua_browser'].unique()"
   ]
  },
  {
   "cell_type": "code",
   "execution_count": 116,
   "metadata": {},
   "outputs": [
    {
     "data": {
      "text/plain": [
       "600040"
      ]
     },
     "execution_count": 116,
     "metadata": {},
     "output_type": "execute_result"
    }
   ],
   "source": [
    "len(train[train['ua_browser_version'].isnull()])"
   ]
  },
  {
   "cell_type": "markdown",
   "metadata": {},
   "source": [
    "Quasiment que des browsers smartphone, et bcp de NaNs"
   ]
  },
  {
   "cell_type": "markdown",
   "metadata": {},
   "source": [
    "#### Ua Device"
   ]
  },
  {
   "cell_type": "code",
   "execution_count": 52,
   "metadata": {},
   "outputs": [
    {
     "data": {
      "text/plain": [
       "Counter({'PersonalComputer': 1022438,\n",
       "         'Tablet': 302771,\n",
       "         'Phone': 1674503,\n",
       "         nan: 198,\n",
       "         'ConnectedTv': 90})"
      ]
     },
     "execution_count": 52,
     "metadata": {},
     "output_type": "execute_result"
    }
   ],
   "source": [
    "Counter(train.ua_device.values)"
   ]
  },
  {
   "cell_type": "code",
   "execution_count": 104,
   "metadata": {},
   "outputs": [
    {
     "name": "stdout",
     "output_type": "stream",
     "text": [
      "['PS4 Web browser' 'unknown' 'Microsoft Edge' 'PS Vita browser']\n",
      "['PS4 Web browser' 'unknown' 'Microsoft Edge' 'PS Vita browser']\n"
     ]
    }
   ],
   "source": [
    "print(train[train['ua_device'].isnull()]['ua_browser'].unique())\n",
    "print(test[test['ua_device'].isnull()]['ua_browser'].unique())"
   ]
  },
  {
   "cell_type": "markdown",
   "metadata": {},
   "source": [
    "Consoles ou Autres ?"
   ]
  },
  {
   "cell_type": "code",
   "execution_count": 117,
   "metadata": {
    "collapsed": true
   },
   "outputs": [],
   "source": [
    "train.replace({'ua_device': {np.nan : 'Console&Others'}}, inplace = True)\n",
    "test.replace({'ua_device': {np.nan : 'Console&Others'}}, inplace = True)"
   ]
  },
  {
   "cell_type": "markdown",
   "metadata": {},
   "source": [
    "#### Average seconds played"
   ]
  },
  {
   "cell_type": "code",
   "execution_count": 121,
   "metadata": {},
   "outputs": [
    {
     "data": {
      "text/plain": [
       "1900295"
      ]
     },
     "execution_count": 121,
     "metadata": {},
     "output_type": "execute_result"
    }
   ],
   "source": [
    "len(train[train['user_average_seconds_played'].isnull()])"
   ]
  },
  {
   "cell_type": "markdown",
   "metadata": {},
   "source": [
    "Shitload of NaNs. La feature a l'air strong mais faut trouver quoi en faire. (fill 0 ou avg là-dessus est pas faisaible, la prédire reviens à prédire seconds_played)"
   ]
  },
  {
   "cell_type": "markdown",
   "metadata": {},
   "source": [
    "## Test rapide Random Forest avec label encoding"
   ]
  },
  {
   "cell_type": "code",
   "execution_count": 125,
   "metadata": {
    "collapsed": true
   },
   "outputs": [],
   "source": [
    "from sklearn.preprocessing import LabelEncoder\n",
    "from time import time\n",
    "\n",
    "def label_encode_categorical(df):\n",
    "    \n",
    "    # Create new dataframe which will contain only numerical features\n",
    "    df_encoded = pd.DataFrame()\n",
    "    \n",
    "    for col in df.columns:\n",
    "        \n",
    "        # Encode all categorical features with LabelEncoder\n",
    "        if df[col].dtypes == np.dtype('object'):\n",
    "            print('Encoding...')\n",
    "            le = LabelEncoder()\n",
    "            t0 = time()\n",
    "            le.fit(np.unique(df[col].values))\n",
    "            df_encoded[col] = df[col].map(lambda x: le.transform([x])[0])\n",
    "            print('%s encoded (%f s)' %(col, time()-t0))\n",
    "            \n",
    "        # Keep the remaining numerical features as they are (to be treated afterwards)\n",
    "        else:\n",
    "            df_encoded[col] = df[col]\n",
    "    return df_encoded"
   ]
  },
  {
   "cell_type": "code",
   "execution_count": 128,
   "metadata": {},
   "outputs": [
    {
     "data": {
      "text/plain": [
       "926617"
      ]
     },
     "execution_count": 128,
     "metadata": {},
     "output_type": "execute_result"
    }
   ],
   "source": [
    "train = train.dropna()\n",
    "len(train)"
   ]
  },
  {
   "cell_type": "code",
   "execution_count": 130,
   "metadata": {},
   "outputs": [
    {
     "data": {
      "text/plain": [
       "((648631, 17), (277986, 17))"
      ]
     },
     "execution_count": 130,
     "metadata": {},
     "output_type": "execute_result"
    }
   ],
   "source": [
    "from sklearn.model_selection import train_test_split\n",
    "train, validation = train_test_split(train, test_size=0.3)\n",
    "train.shape, validation.shape"
   ]
  },
  {
   "cell_type": "code",
   "execution_count": 133,
   "metadata": {},
   "outputs": [
    {
     "data": {
      "text/plain": [
       "Index(['auction_id', 'timestamp', 'creative_duration', 'creative_id',\n",
       "       'campaign_id', 'advertiser_id', 'placement_id', 'placement_language',\n",
       "       'website_id', 'referer_deep_three', 'ua_country', 'ua_os', 'ua_browser',\n",
       "       'ua_browser_version', 'ua_device', 'user_average_seconds_played',\n",
       "       'seconds_played'],\n",
       "      dtype='object')"
      ]
     },
     "execution_count": 133,
     "metadata": {},
     "output_type": "execute_result"
    }
   ],
   "source": [
    "train.columns"
   ]
  },
  {
   "cell_type": "code",
   "execution_count": 139,
   "metadata": {
    "collapsed": true
   },
   "outputs": [],
   "source": [
    "featuresToTakeForTraining = ['timestamp', 'creative_duration', 'creative_id',\n",
    "       'campaign_id', 'advertiser_id', 'placement_id', 'placement_language',\n",
    "       'website_id', 'ua_country', 'ua_os', 'ua_browser',\n",
    "       'ua_browser_version', 'ua_device', 'user_average_seconds_played']"
   ]
  },
  {
   "cell_type": "code",
   "execution_count": 140,
   "metadata": {
    "collapsed": true
   },
   "outputs": [],
   "source": [
    "y_train = train['seconds_played']\n",
    "y_validation = validation['seconds_played']\n",
    "\n",
    "X_train = train[featuresToTakeForTraining]\n",
    "X_validation = validation[featuresToTakeForTraining]"
   ]
  },
  {
   "cell_type": "code",
   "execution_count": 141,
   "metadata": {},
   "outputs": [
    {
     "name": "stdout",
     "output_type": "stream",
     "text": [
      "Encoding...\n",
      "placement_language encoded (52.276213 s)\n",
      "Encoding...\n",
      "ua_country encoded (81.598082 s)\n",
      "Encoding...\n",
      "ua_os encoded (55.862762 s)\n",
      "Encoding...\n",
      "ua_browser encoded (81.319882 s)\n",
      "Encoding...\n",
      "ua_device encoded (46.831333 s)\n"
     ]
    },
    {
     "data": {
      "text/html": [
       "<div>\n",
       "<style scoped>\n",
       "    .dataframe tbody tr th:only-of-type {\n",
       "        vertical-align: middle;\n",
       "    }\n",
       "\n",
       "    .dataframe tbody tr th {\n",
       "        vertical-align: top;\n",
       "    }\n",
       "\n",
       "    .dataframe thead th {\n",
       "        text-align: right;\n",
       "    }\n",
       "</style>\n",
       "<table border=\"1\" class=\"dataframe\">\n",
       "  <thead>\n",
       "    <tr style=\"text-align: right;\">\n",
       "      <th></th>\n",
       "      <th>timestamp</th>\n",
       "      <th>creative_duration</th>\n",
       "      <th>creative_id</th>\n",
       "      <th>campaign_id</th>\n",
       "      <th>advertiser_id</th>\n",
       "      <th>placement_id</th>\n",
       "      <th>placement_language</th>\n",
       "      <th>website_id</th>\n",
       "      <th>ua_country</th>\n",
       "      <th>ua_os</th>\n",
       "      <th>ua_browser</th>\n",
       "      <th>ua_browser_version</th>\n",
       "      <th>ua_device</th>\n",
       "      <th>user_average_seconds_played</th>\n",
       "    </tr>\n",
       "  </thead>\n",
       "  <tbody>\n",
       "    <tr>\n",
       "      <th>1583268</th>\n",
       "      <td>1517281189</td>\n",
       "      <td>15</td>\n",
       "      <td>198116</td>\n",
       "      <td>210363</td>\n",
       "      <td>8120.0</td>\n",
       "      <td>72422</td>\n",
       "      <td>3</td>\n",
       "      <td>44250</td>\n",
       "      <td>60</td>\n",
       "      <td>10</td>\n",
       "      <td>48</td>\n",
       "      <td>9.0</td>\n",
       "      <td>3</td>\n",
       "      <td>20.000000</td>\n",
       "    </tr>\n",
       "    <tr>\n",
       "      <th>2759965</th>\n",
       "      <td>1517299440</td>\n",
       "      <td>24</td>\n",
       "      <td>201534</td>\n",
       "      <td>214182</td>\n",
       "      <td>2636.0</td>\n",
       "      <td>70822</td>\n",
       "      <td>3</td>\n",
       "      <td>29252</td>\n",
       "      <td>9</td>\n",
       "      <td>9</td>\n",
       "      <td>19</td>\n",
       "      <td>11.0</td>\n",
       "      <td>1</td>\n",
       "      <td>12.705882</td>\n",
       "    </tr>\n",
       "    <tr>\n",
       "      <th>1540151</th>\n",
       "      <td>1517329499</td>\n",
       "      <td>9</td>\n",
       "      <td>202597</td>\n",
       "      <td>215568</td>\n",
       "      <td>7906.0</td>\n",
       "      <td>71354</td>\n",
       "      <td>3</td>\n",
       "      <td>43714</td>\n",
       "      <td>59</td>\n",
       "      <td>0</td>\n",
       "      <td>8</td>\n",
       "      <td>63.0</td>\n",
       "      <td>2</td>\n",
       "      <td>2.000000</td>\n",
       "    </tr>\n",
       "    <tr>\n",
       "      <th>842</th>\n",
       "      <td>1517328976</td>\n",
       "      <td>29</td>\n",
       "      <td>201701</td>\n",
       "      <td>214397</td>\n",
       "      <td>5500.0</td>\n",
       "      <td>82405</td>\n",
       "      <td>3</td>\n",
       "      <td>19658</td>\n",
       "      <td>21</td>\n",
       "      <td>0</td>\n",
       "      <td>8</td>\n",
       "      <td>64.0</td>\n",
       "      <td>2</td>\n",
       "      <td>3.000000</td>\n",
       "    </tr>\n",
       "    <tr>\n",
       "      <th>2346328</th>\n",
       "      <td>1517352406</td>\n",
       "      <td>29</td>\n",
       "      <td>198114</td>\n",
       "      <td>210361</td>\n",
       "      <td>8120.0</td>\n",
       "      <td>40666</td>\n",
       "      <td>3</td>\n",
       "      <td>19190</td>\n",
       "      <td>60</td>\n",
       "      <td>9</td>\n",
       "      <td>7</td>\n",
       "      <td>63.0</td>\n",
       "      <td>1</td>\n",
       "      <td>35.642857</td>\n",
       "    </tr>\n",
       "  </tbody>\n",
       "</table>\n",
       "</div>"
      ],
      "text/plain": [
       "          timestamp  creative_duration  creative_id  campaign_id  \\\n",
       "1583268  1517281189                 15       198116       210363   \n",
       "2759965  1517299440                 24       201534       214182   \n",
       "1540151  1517329499                  9       202597       215568   \n",
       "842      1517328976                 29       201701       214397   \n",
       "2346328  1517352406                 29       198114       210361   \n",
       "\n",
       "         advertiser_id  placement_id  placement_language  website_id  \\\n",
       "1583268         8120.0         72422                   3       44250   \n",
       "2759965         2636.0         70822                   3       29252   \n",
       "1540151         7906.0         71354                   3       43714   \n",
       "842             5500.0         82405                   3       19658   \n",
       "2346328         8120.0         40666                   3       19190   \n",
       "\n",
       "         ua_country  ua_os  ua_browser  ua_browser_version  ua_device  \\\n",
       "1583268          60     10          48                 9.0          3   \n",
       "2759965           9      9          19                11.0          1   \n",
       "1540151          59      0           8                63.0          2   \n",
       "842              21      0           8                64.0          2   \n",
       "2346328          60      9           7                63.0          1   \n",
       "\n",
       "         user_average_seconds_played  \n",
       "1583268                    20.000000  \n",
       "2759965                    12.705882  \n",
       "1540151                     2.000000  \n",
       "842                         3.000000  \n",
       "2346328                    35.642857  "
      ]
     },
     "execution_count": 141,
     "metadata": {},
     "output_type": "execute_result"
    }
   ],
   "source": [
    "X_train = label_encode_categorical(X_train)\n",
    "X_train.head()"
   ]
  },
  {
   "cell_type": "code",
   "execution_count": 142,
   "metadata": {},
   "outputs": [
    {
     "name": "stdout",
     "output_type": "stream",
     "text": [
      "Encoding...\n",
      "placement_language encoded (21.211096 s)\n",
      "Encoding...\n",
      "ua_country encoded (29.156749 s)\n",
      "Encoding...\n",
      "ua_os encoded (23.170513 s)\n",
      "Encoding...\n",
      "ua_browser encoded (30.031359 s)\n",
      "Encoding...\n",
      "ua_device encoded (20.707740 s)\n"
     ]
    },
    {
     "data": {
      "text/html": [
       "<div>\n",
       "<style scoped>\n",
       "    .dataframe tbody tr th:only-of-type {\n",
       "        vertical-align: middle;\n",
       "    }\n",
       "\n",
       "    .dataframe tbody tr th {\n",
       "        vertical-align: top;\n",
       "    }\n",
       "\n",
       "    .dataframe thead th {\n",
       "        text-align: right;\n",
       "    }\n",
       "</style>\n",
       "<table border=\"1\" class=\"dataframe\">\n",
       "  <thead>\n",
       "    <tr style=\"text-align: right;\">\n",
       "      <th></th>\n",
       "      <th>timestamp</th>\n",
       "      <th>creative_duration</th>\n",
       "      <th>creative_id</th>\n",
       "      <th>campaign_id</th>\n",
       "      <th>advertiser_id</th>\n",
       "      <th>placement_id</th>\n",
       "      <th>placement_language</th>\n",
       "      <th>website_id</th>\n",
       "      <th>ua_country</th>\n",
       "      <th>ua_os</th>\n",
       "      <th>ua_browser</th>\n",
       "      <th>ua_browser_version</th>\n",
       "      <th>ua_device</th>\n",
       "      <th>user_average_seconds_played</th>\n",
       "    </tr>\n",
       "  </thead>\n",
       "  <tbody>\n",
       "    <tr>\n",
       "      <th>1149441</th>\n",
       "      <td>1517350291</td>\n",
       "      <td>15</td>\n",
       "      <td>200092</td>\n",
       "      <td>212567</td>\n",
       "      <td>2578.0</td>\n",
       "      <td>67605</td>\n",
       "      <td>3</td>\n",
       "      <td>41930</td>\n",
       "      <td>16</td>\n",
       "      <td>4</td>\n",
       "      <td>5</td>\n",
       "      <td>65.0</td>\n",
       "      <td>1</td>\n",
       "      <td>17.000000</td>\n",
       "    </tr>\n",
       "    <tr>\n",
       "      <th>891329</th>\n",
       "      <td>1517284577</td>\n",
       "      <td>30</td>\n",
       "      <td>201296</td>\n",
       "      <td>213746</td>\n",
       "      <td>6152.0</td>\n",
       "      <td>86765</td>\n",
       "      <td>3</td>\n",
       "      <td>51131</td>\n",
       "      <td>49</td>\n",
       "      <td>8</td>\n",
       "      <td>40</td>\n",
       "      <td>11.0</td>\n",
       "      <td>2</td>\n",
       "      <td>2.000000</td>\n",
       "    </tr>\n",
       "    <tr>\n",
       "      <th>398469</th>\n",
       "      <td>1517285026</td>\n",
       "      <td>29</td>\n",
       "      <td>198063</td>\n",
       "      <td>210347</td>\n",
       "      <td>3562.0</td>\n",
       "      <td>80209</td>\n",
       "      <td>3</td>\n",
       "      <td>39378</td>\n",
       "      <td>49</td>\n",
       "      <td>7</td>\n",
       "      <td>5</td>\n",
       "      <td>64.0</td>\n",
       "      <td>1</td>\n",
       "      <td>3.000000</td>\n",
       "    </tr>\n",
       "    <tr>\n",
       "      <th>758579</th>\n",
       "      <td>1517304297</td>\n",
       "      <td>29</td>\n",
       "      <td>202102</td>\n",
       "      <td>214988</td>\n",
       "      <td>6445.0</td>\n",
       "      <td>45760</td>\n",
       "      <td>3</td>\n",
       "      <td>19309</td>\n",
       "      <td>7</td>\n",
       "      <td>7</td>\n",
       "      <td>14</td>\n",
       "      <td>11.0</td>\n",
       "      <td>1</td>\n",
       "      <td>17.074074</td>\n",
       "    </tr>\n",
       "    <tr>\n",
       "      <th>2752607</th>\n",
       "      <td>1517299584</td>\n",
       "      <td>69</td>\n",
       "      <td>201861</td>\n",
       "      <td>214626</td>\n",
       "      <td>1328.0</td>\n",
       "      <td>68947</td>\n",
       "      <td>3</td>\n",
       "      <td>42580</td>\n",
       "      <td>44</td>\n",
       "      <td>7</td>\n",
       "      <td>5</td>\n",
       "      <td>64.0</td>\n",
       "      <td>1</td>\n",
       "      <td>9.000000</td>\n",
       "    </tr>\n",
       "  </tbody>\n",
       "</table>\n",
       "</div>"
      ],
      "text/plain": [
       "          timestamp  creative_duration  creative_id  campaign_id  \\\n",
       "1149441  1517350291                 15       200092       212567   \n",
       "891329   1517284577                 30       201296       213746   \n",
       "398469   1517285026                 29       198063       210347   \n",
       "758579   1517304297                 29       202102       214988   \n",
       "2752607  1517299584                 69       201861       214626   \n",
       "\n",
       "         advertiser_id  placement_id  placement_language  website_id  \\\n",
       "1149441         2578.0         67605                   3       41930   \n",
       "891329          6152.0         86765                   3       51131   \n",
       "398469          3562.0         80209                   3       39378   \n",
       "758579          6445.0         45760                   3       19309   \n",
       "2752607         1328.0         68947                   3       42580   \n",
       "\n",
       "         ua_country  ua_os  ua_browser  ua_browser_version  ua_device  \\\n",
       "1149441          16      4           5                65.0          1   \n",
       "891329           49      8          40                11.0          2   \n",
       "398469           49      7           5                64.0          1   \n",
       "758579            7      7          14                11.0          1   \n",
       "2752607          44      7           5                64.0          1   \n",
       "\n",
       "         user_average_seconds_played  \n",
       "1149441                    17.000000  \n",
       "891329                      2.000000  \n",
       "398469                      3.000000  \n",
       "758579                     17.074074  \n",
       "2752607                     9.000000  "
      ]
     },
     "execution_count": 142,
     "metadata": {},
     "output_type": "execute_result"
    }
   ],
   "source": [
    "X_validation = label_encode_categorical(X_validation)\n",
    "X_validation.head()"
   ]
  },
  {
   "cell_type": "markdown",
   "metadata": {},
   "source": [
    "### Score function : RMSE"
   ]
  },
  {
   "cell_type": "code",
   "execution_count": 143,
   "metadata": {
    "collapsed": true
   },
   "outputs": [],
   "source": [
    "def rmse(predictions, targets):\n",
    "    return np.sqrt(((predictions - targets) ** 2).mean())"
   ]
  },
  {
   "cell_type": "markdown",
   "metadata": {},
   "source": [
    "### Models"
   ]
  },
  {
   "cell_type": "code",
   "execution_count": 155,
   "metadata": {},
   "outputs": [
    {
     "name": "stdout",
     "output_type": "stream",
     "text": [
      "\t Score (trainning): 8.918307255063546 \n",
      "\n",
      "\t Score (testing): 8.887276640478767 \n",
      "\n"
     ]
    }
   ],
   "source": [
    "from sklearn.linear_model import LinearRegression\n",
    "\n",
    "reg = LinearRegression()\n",
    "reg.fit(X_train, y_train)\n",
    "\n",
    "y_pred = reg.predict(X_validation)\n",
    "y_pred_train = reg.predict(X_train)\n",
    "\n",
    "score_train = rmse(y_pred_train, y_train.values)\n",
    "score_test = rmse(y_pred, y_validation.values)\n",
    "\n",
    "print(\"\\t Score (trainning):\", score_train, \"\\n\")\n",
    "print(\"\\t Score (testing):\", score_test, \"\\n\")"
   ]
  },
  {
   "cell_type": "code",
   "execution_count": 144,
   "metadata": {},
   "outputs": [
    {
     "name": "stdout",
     "output_type": "stream",
     "text": [
      "\t Score (trainning): 8.613030057126513 \n",
      "\n",
      "\t Score (testing): 8.624273453122742 \n",
      "\n"
     ]
    }
   ],
   "source": [
    "from sklearn.ensemble import RandomForestRegressor\n",
    "\n",
    "rfr = RandomForestRegressor(n_estimators = 200, max_depth = 7, min_samples_split = 2)\n",
    "rfr.fit(X_train, y_train)\n",
    "\n",
    "y_pred = rfr.predict(X_validation)\n",
    "y_pred_train = rfr.predict(X_train)\n",
    "\n",
    "score_train = rmse(y_pred_train, y_train.values)\n",
    "score_test = rmse(y_pred, y_validation.values)\n",
    "\n",
    "print(\"\\t Score (trainning):\", score_train, \"\\n\")\n",
    "print(\"\\t Score (testing):\", score_test, \"\\n\")"
   ]
  },
  {
   "cell_type": "code",
   "execution_count": 150,
   "metadata": {},
   "outputs": [
    {
     "name": "stdout",
     "output_type": "stream",
     "text": [
      "\t Score (trainning): 11.676225023436286 \n",
      "\n",
      "\t Score (testing): 11.707427413641025 \n",
      "\n"
     ]
    }
   ],
   "source": [
    "from sklearn.ensemble import AdaBoostRegressor\n",
    "\n",
    "ada = AdaBoostRegressor(n_estimators = 200)\n",
    "ada.fit(X_train, y_train)\n",
    "\n",
    "y_proba_test = ada.predict(X_validation)\n",
    "y_proba_train = ada.predict(X_train)\n",
    "\n",
    "score_train = rmse(y_proba_train, y_train.values)\n",
    "score_test = rmse(y_proba_test, y_validation.values)\n",
    "\n",
    "print(\"\\t Score (trainning):\", score_train, \"\\n\")\n",
    "print(\"\\t Score (testing):\", score_test, \"\\n\")"
   ]
  },
  {
   "cell_type": "code",
   "execution_count": 153,
   "metadata": {},
   "outputs": [
    {
     "name": "stdout",
     "output_type": "stream",
     "text": [
      "[0]\teval-rmse:10.2681\ttrain-rmse:10.3269\teval-rmse:10.2681\ttrain-rmse:10.3269\n",
      "Multiple eval metrics have been passed: 'train-rmse' will be used for early stopping.\n",
      "\n",
      "Will train until train-rmse hasn't improved in 10 rounds.\n",
      "[5]\teval-rmse:8.6518\ttrain-rmse:8.6663\teval-rmse:8.6518\ttrain-rmse:8.6663\n",
      "[10]\teval-rmse:8.57323\ttrain-rmse:8.55943\teval-rmse:8.57323\ttrain-rmse:8.55943\n",
      "[15]\teval-rmse:8.55318\ttrain-rmse:8.53053\teval-rmse:8.55318\ttrain-rmse:8.53053\n",
      "[20]\teval-rmse:8.54375\ttrain-rmse:8.5096\teval-rmse:8.54375\ttrain-rmse:8.5096\n",
      "[25]\teval-rmse:8.53416\ttrain-rmse:8.49015\teval-rmse:8.53416\ttrain-rmse:8.49015\n",
      "[30]\teval-rmse:8.52849\ttrain-rmse:8.47615\teval-rmse:8.52849\ttrain-rmse:8.47615\n",
      "[35]\teval-rmse:8.52327\ttrain-rmse:8.46412\teval-rmse:8.52327\ttrain-rmse:8.46412\n",
      "[40]\teval-rmse:8.52026\ttrain-rmse:8.4534\teval-rmse:8.52026\ttrain-rmse:8.4534\n",
      "[45]\teval-rmse:8.51837\ttrain-rmse:8.44313\teval-rmse:8.51837\ttrain-rmse:8.44313\n",
      "[50]\teval-rmse:8.52011\ttrain-rmse:8.43179\teval-rmse:8.52011\ttrain-rmse:8.43179\n",
      "[55]\teval-rmse:8.52568\ttrain-rmse:8.42183\teval-rmse:8.52569\ttrain-rmse:8.42183\n",
      "[60]\teval-rmse:8.52175\ttrain-rmse:8.41202\teval-rmse:8.52175\ttrain-rmse:8.41202\n",
      "[65]\teval-rmse:8.51921\ttrain-rmse:8.40338\teval-rmse:8.51921\ttrain-rmse:8.40338\n",
      "[70]\teval-rmse:8.52053\ttrain-rmse:8.39435\teval-rmse:8.52053\ttrain-rmse:8.39435\n",
      "[75]\teval-rmse:8.52247\ttrain-rmse:8.38602\teval-rmse:8.52247\ttrain-rmse:8.38602\n",
      "[80]\teval-rmse:8.529\ttrain-rmse:8.37585\teval-rmse:8.529\ttrain-rmse:8.37585\n",
      "[85]\teval-rmse:8.52967\ttrain-rmse:8.36879\teval-rmse:8.52968\ttrain-rmse:8.36879\n",
      "[90]\teval-rmse:8.52994\ttrain-rmse:8.36252\teval-rmse:8.52994\ttrain-rmse:8.36252\n",
      "[95]\teval-rmse:8.53104\ttrain-rmse:8.35555\teval-rmse:8.53104\ttrain-rmse:8.35555\n",
      "[100]\teval-rmse:8.53174\ttrain-rmse:8.34909\teval-rmse:8.53174\ttrain-rmse:8.34909\n",
      "[105]\teval-rmse:8.54043\ttrain-rmse:8.34301\teval-rmse:8.54043\ttrain-rmse:8.34301\n",
      "[110]\teval-rmse:8.54129\ttrain-rmse:8.3398\teval-rmse:8.54129\ttrain-rmse:8.3398\n",
      "[115]\teval-rmse:8.54232\ttrain-rmse:8.33281\teval-rmse:8.54232\ttrain-rmse:8.33281\n",
      "[120]\teval-rmse:8.54292\ttrain-rmse:8.32688\teval-rmse:8.54292\ttrain-rmse:8.32688\n",
      "[125]\teval-rmse:8.54355\ttrain-rmse:8.31937\teval-rmse:8.54355\ttrain-rmse:8.31937\n",
      "[130]\teval-rmse:8.54431\ttrain-rmse:8.31346\teval-rmse:8.54431\ttrain-rmse:8.31346\n",
      "[135]\teval-rmse:8.54612\ttrain-rmse:8.30861\teval-rmse:8.54612\ttrain-rmse:8.30861\n",
      "[140]\teval-rmse:8.54713\ttrain-rmse:8.30164\teval-rmse:8.54713\ttrain-rmse:8.30164\n",
      "[145]\teval-rmse:8.54751\ttrain-rmse:8.29588\teval-rmse:8.5475\ttrain-rmse:8.29588\n",
      "[150]\teval-rmse:8.54444\ttrain-rmse:8.29107\teval-rmse:8.54444\ttrain-rmse:8.29107\n",
      "[155]\teval-rmse:8.5451\ttrain-rmse:8.28552\teval-rmse:8.5451\ttrain-rmse:8.28552\n",
      "[160]\teval-rmse:8.54717\ttrain-rmse:8.2813\teval-rmse:8.54717\ttrain-rmse:8.2813\n",
      "[165]\teval-rmse:8.54754\ttrain-rmse:8.27579\teval-rmse:8.54754\ttrain-rmse:8.27579\n",
      "[170]\teval-rmse:8.54764\ttrain-rmse:8.27069\teval-rmse:8.54764\ttrain-rmse:8.27069\n",
      "[175]\teval-rmse:8.54838\ttrain-rmse:8.26645\teval-rmse:8.54838\ttrain-rmse:8.26645\n",
      "[180]\teval-rmse:8.54942\ttrain-rmse:8.26224\teval-rmse:8.54942\ttrain-rmse:8.26225\n",
      "[185]\teval-rmse:8.55172\ttrain-rmse:8.25648\teval-rmse:8.55172\ttrain-rmse:8.25648\n",
      "[190]\teval-rmse:8.55373\ttrain-rmse:8.25105\teval-rmse:8.55373\ttrain-rmse:8.25105\n",
      "[195]\teval-rmse:8.55552\ttrain-rmse:8.24646\teval-rmse:8.55552\ttrain-rmse:8.24646\n",
      "[200]\teval-rmse:8.55779\ttrain-rmse:8.24145\teval-rmse:8.55779\ttrain-rmse:8.24145\n",
      "[205]\teval-rmse:8.56072\ttrain-rmse:8.23634\teval-rmse:8.56072\ttrain-rmse:8.23634\n",
      "[210]\teval-rmse:8.56309\ttrain-rmse:8.23175\teval-rmse:8.56309\ttrain-rmse:8.23175\n",
      "[215]\teval-rmse:8.56498\ttrain-rmse:8.22627\teval-rmse:8.56498\ttrain-rmse:8.22627\n",
      "[220]\teval-rmse:8.56579\ttrain-rmse:8.22252\teval-rmse:8.56579\ttrain-rmse:8.22252\n",
      "[225]\teval-rmse:8.56703\ttrain-rmse:8.21818\teval-rmse:8.56703\ttrain-rmse:8.21818\n",
      "[230]\teval-rmse:8.56894\ttrain-rmse:8.21307\teval-rmse:8.56894\ttrain-rmse:8.21307\n",
      "[235]\teval-rmse:8.57157\ttrain-rmse:8.20898\teval-rmse:8.57157\ttrain-rmse:8.20898\n",
      "[240]\teval-rmse:8.5716\ttrain-rmse:8.20504\teval-rmse:8.5716\ttrain-rmse:8.20503\n",
      "[245]\teval-rmse:8.57129\ttrain-rmse:8.19961\teval-rmse:8.57129\ttrain-rmse:8.19961\n",
      "[249]\teval-rmse:8.5723\ttrain-rmse:8.19605\teval-rmse:8.5723\ttrain-rmse:8.19605\n"
     ]
    }
   ],
   "source": [
    "import xgboost as xgb\n",
    "\n",
    "def rmse_xg(yhat, y):\n",
    "    y = y.get_label()\n",
    "    return \"rmse\", rmse(yhat, y)\n",
    "\n",
    "params = {\"objective\": \"reg:linear\", # fonction perte => regression linéaire car on prédit des ventes\n",
    "          \"eta\": 0.3,\n",
    "          \"max_depth\": 6, #on peut augmenter la profondeur mais augmente les chances d'overfit\n",
    "          \"subsample\": 0.6,\n",
    "          \"colsample_bytree\": 0.7\n",
    "          }\n",
    "\n",
    "dtrain = xgb.DMatrix(X_train, y_train)\n",
    "dvalid = xgb.DMatrix(X_validation, y_validation)\n",
    "watchlist = [(dvalid, 'eval'), (dtrain, 'train')]\n",
    "\n",
    "model = xgb.train(params, dtrain, 250, evals = watchlist, early_stopping_rounds = 10, feval = rmse_xg, verbose_eval = 5)"
   ]
  },
  {
   "cell_type": "code",
   "execution_count": 154,
   "metadata": {},
   "outputs": [
    {
     "name": "stdout",
     "output_type": "stream",
     "text": [
      "Error on training set  8.196052573076656\n",
      "Error on testing set  8.572302716370922\n"
     ]
    }
   ],
   "source": [
    "train_probs = model.predict(xgb.DMatrix(X_train))\n",
    "test_probs = model.predict(xgb.DMatrix(X_validation))\n",
    "\n",
    "print('Error on training set ', rmse(train_probs, y_train.values))\n",
    "print('Error on testing set ', rmse(test_probs, y_validation.values))"
   ]
  },
  {
   "cell_type": "markdown",
   "metadata": {},
   "source": [
    "https://www.analyticsvidhya.com/blog/2016/07/practical-guide-data-preprocessing-python-scikit-learn/"
   ]
  }
 ],
 "metadata": {
  "kernelspec": {
   "display_name": "Python 3",
   "language": "python",
   "name": "python3"
  },
  "language_info": {
   "codemirror_mode": {
    "name": "ipython",
    "version": 3
   },
   "file_extension": ".py",
   "mimetype": "text/x-python",
   "name": "python",
   "nbconvert_exporter": "python",
   "pygments_lexer": "ipython3",
   "version": "3.6.4"
  }
 },
 "nbformat": 4,
 "nbformat_minor": 2
}
